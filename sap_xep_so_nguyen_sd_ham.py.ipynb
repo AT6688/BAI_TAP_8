{
 "cells": [
  {
   "cell_type": "code",
   "execution_count": 9,
   "id": "dd28ea45",
   "metadata": {},
   "outputs": [
    {
     "name": "stdout",
     "output_type": "stream",
     "text": [
      "nhap so thu nhat: 34\n",
      "nhap so thu hai: 14\n",
      "nhap so thu ba: 67\n",
      "chuoi truoc khi sap xep:  (34, 14, 67)\n",
      "chuoi sau khi sap xep:  (14, 34, 67)\n"
     ]
    }
   ],
   "source": [
    "def sap_xep(num1,num2,num3):\n",
    "\n",
    "    temp = 0\n",
    "    str = [num1,num2,num3]\n",
    "    \n",
    "    if (num2 < num1) and (num2 < num3):\n",
    "        temp = num1\n",
    "        num1 = num2\n",
    "        num2 = temp\n",
    "    elif num3 < num1 and num3 < num2:\n",
    "        temp = num1\n",
    "        num1 = num3\n",
    "        num3 =temp\n",
    "    \n",
    "    if num3 < num2:\n",
    "        temp = num2\n",
    "        num2 = num3\n",
    "        num3 = temp\n",
    "    \n",
    "    return(num1,num2,num3)\n",
    "\n",
    "\n",
    "x = int(input(\"nhap so thu nhat: \"))\n",
    "y = int(input(\"nhap so thu hai: \"))\n",
    "z = int(input(\"nhap so thu ba: \"))\n",
    "\n",
    "sx = sap_xep(x,y,z)\n",
    "\n",
    "print(\"chuoi truoc khi sap xep: \", (x, y, z))\n",
    "print(\"chuoi sau khi sap xep: \",sx)"
   ]
  },
  {
   "cell_type": "code",
   "execution_count": null,
   "id": "c3951700",
   "metadata": {},
   "outputs": [],
   "source": []
  }
 ],
 "metadata": {
  "kernelspec": {
   "display_name": "Python 3 (ipykernel)",
   "language": "python",
   "name": "python3"
  },
  "language_info": {
   "codemirror_mode": {
    "name": "ipython",
    "version": 3
   },
   "file_extension": ".py",
   "mimetype": "text/x-python",
   "name": "python",
   "nbconvert_exporter": "python",
   "pygments_lexer": "ipython3",
   "version": "3.9.12"
  }
 },
 "nbformat": 4,
 "nbformat_minor": 5
}
